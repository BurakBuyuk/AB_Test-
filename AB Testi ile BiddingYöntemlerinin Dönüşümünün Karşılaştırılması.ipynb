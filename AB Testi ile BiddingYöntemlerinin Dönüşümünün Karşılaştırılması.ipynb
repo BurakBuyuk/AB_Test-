{
 "cells": [
  {
   "cell_type": "code",
   "execution_count": 1,
   "id": "6ecd916b-9496-457c-940c-a4811ae2a780",
   "metadata": {},
   "outputs": [],
   "source": [
    "import pandas as pd\n",
    "import numpy as np"
   ]
  },
  {
   "cell_type": "code",
   "execution_count": 27,
   "id": "7b00d52c-95e3-4e48-b6d6-c60bca1da310",
   "metadata": {},
   "outputs": [
    {
     "name": "stdout",
     "output_type": "stream",
     "text": [
      "Kontrol Grubu Verileri:\n",
      "      Impression        Click    Purchase      Earning\n",
      "0   82529.459271  6090.077317  665.211255  2311.277143\n",
      "1   98050.451926  3382.861786  315.084895  1742.806855\n",
      "2   82696.023549  4167.965750  458.083738  1797.827447\n",
      "3  109914.400398  4910.882240  487.090773  1696.229178\n",
      "4  108457.762630  5987.655811  441.034050  1543.720179\n",
      "\n",
      "Test Grubu Verileri:\n",
      "      Impression        Click    Purchase      Earning\n",
      "0  120103.503796  3216.547958  702.160346  1939.611243\n",
      "1  134775.943363  3635.082422  834.054286  2929.405820\n",
      "2  107806.620788  3057.143560  422.934258  2526.244877\n",
      "3  116445.275526  4650.473911  429.033535  2281.428574\n",
      "4  145082.516838  5201.387724  749.860442  2781.697521\n"
     ]
    }
   ],
   "source": [
    "# Excel dosyasının yolu\n",
    "file_path = r\"C:\\Users\\yenib\\OneDrive\\Masaüstü\\ab_testing.xlsx\"\n",
    "\n",
    "# Kontrol ve test grubu verilerini ayrı sayfalardan okuma\n",
    "control_group = pd.read_excel(file_path, sheet_name=\"Control Group\")\n",
    "test_group = pd.read_excel(file_path, sheet_name=\"Test Group\")\n",
    "\n",
    "# Verinin ilk 5 satırını göstererek kontrol edelim\n",
    "print(\"Kontrol Grubu Verileri:\")\n",
    "print(control_group.head())\n",
    "\n",
    "print(\"\\nTest Grubu Verileri:\")\n",
    "print(test_group.head())\n"
   ]
  },
  {
   "cell_type": "code",
   "execution_count": 41,
   "id": "eb1e2f97-f05a-4725-ae7b-1c7d884cd2dd",
   "metadata": {},
   "outputs": [
    {
     "data": {
      "text/html": [
       "<div>\n",
       "<style scoped>\n",
       "    .dataframe tbody tr th:only-of-type {\n",
       "        vertical-align: middle;\n",
       "    }\n",
       "\n",
       "    .dataframe tbody tr th {\n",
       "        vertical-align: top;\n",
       "    }\n",
       "\n",
       "    .dataframe thead th {\n",
       "        text-align: right;\n",
       "    }\n",
       "</style>\n",
       "<table border=\"1\" class=\"dataframe\">\n",
       "  <thead>\n",
       "    <tr style=\"text-align: right;\">\n",
       "      <th></th>\n",
       "      <th>Impression</th>\n",
       "      <th>Click</th>\n",
       "      <th>Purchase</th>\n",
       "      <th>Earning</th>\n",
       "    </tr>\n",
       "  </thead>\n",
       "  <tbody>\n",
       "    <tr>\n",
       "      <th>count</th>\n",
       "      <td>40.000000</td>\n",
       "      <td>40.000000</td>\n",
       "      <td>40.000000</td>\n",
       "      <td>40.000000</td>\n",
       "    </tr>\n",
       "    <tr>\n",
       "      <th>mean</th>\n",
       "      <td>101711.449068</td>\n",
       "      <td>5100.657373</td>\n",
       "      <td>550.894059</td>\n",
       "      <td>1908.568300</td>\n",
       "    </tr>\n",
       "    <tr>\n",
       "      <th>std</th>\n",
       "      <td>20302.157862</td>\n",
       "      <td>1329.985498</td>\n",
       "      <td>134.108201</td>\n",
       "      <td>302.917783</td>\n",
       "    </tr>\n",
       "    <tr>\n",
       "      <th>min</th>\n",
       "      <td>45475.942965</td>\n",
       "      <td>2189.753157</td>\n",
       "      <td>267.028943</td>\n",
       "      <td>1253.989525</td>\n",
       "    </tr>\n",
       "    <tr>\n",
       "      <th>25%</th>\n",
       "      <td>85726.690349</td>\n",
       "      <td>4124.304129</td>\n",
       "      <td>470.095533</td>\n",
       "      <td>1685.847205</td>\n",
       "    </tr>\n",
       "    <tr>\n",
       "      <th>50%</th>\n",
       "      <td>99790.701078</td>\n",
       "      <td>5001.220602</td>\n",
       "      <td>531.206307</td>\n",
       "      <td>1975.160522</td>\n",
       "    </tr>\n",
       "    <tr>\n",
       "      <th>75%</th>\n",
       "      <td>115212.816543</td>\n",
       "      <td>5923.803596</td>\n",
       "      <td>637.957088</td>\n",
       "      <td>2119.802784</td>\n",
       "    </tr>\n",
       "    <tr>\n",
       "      <th>max</th>\n",
       "      <td>147539.336329</td>\n",
       "      <td>7959.125069</td>\n",
       "      <td>801.795020</td>\n",
       "      <td>2497.295218</td>\n",
       "    </tr>\n",
       "  </tbody>\n",
       "</table>\n",
       "</div>"
      ],
      "text/plain": [
       "          Impression        Click    Purchase      Earning\n",
       "count      40.000000    40.000000   40.000000    40.000000\n",
       "mean   101711.449068  5100.657373  550.894059  1908.568300\n",
       "std     20302.157862  1329.985498  134.108201   302.917783\n",
       "min     45475.942965  2189.753157  267.028943  1253.989525\n",
       "25%     85726.690349  4124.304129  470.095533  1685.847205\n",
       "50%     99790.701078  5001.220602  531.206307  1975.160522\n",
       "75%    115212.816543  5923.803596  637.957088  2119.802784\n",
       "max    147539.336329  7959.125069  801.795020  2497.295218"
      ]
     },
     "execution_count": 41,
     "metadata": {},
     "output_type": "execute_result"
    }
   ],
   "source": [
    "control_group.describe()"
   ]
  },
  {
   "cell_type": "code",
   "execution_count": 43,
   "id": "8afdb72e-5a29-413a-ab23-180240ef3114",
   "metadata": {},
   "outputs": [
    {
     "data": {
      "text/html": [
       "<div>\n",
       "<style scoped>\n",
       "    .dataframe tbody tr th:only-of-type {\n",
       "        vertical-align: middle;\n",
       "    }\n",
       "\n",
       "    .dataframe tbody tr th {\n",
       "        vertical-align: top;\n",
       "    }\n",
       "\n",
       "    .dataframe thead th {\n",
       "        text-align: right;\n",
       "    }\n",
       "</style>\n",
       "<table border=\"1\" class=\"dataframe\">\n",
       "  <thead>\n",
       "    <tr style=\"text-align: right;\">\n",
       "      <th></th>\n",
       "      <th>Impression</th>\n",
       "      <th>Click</th>\n",
       "      <th>Purchase</th>\n",
       "      <th>Earning</th>\n",
       "    </tr>\n",
       "  </thead>\n",
       "  <tbody>\n",
       "    <tr>\n",
       "      <th>count</th>\n",
       "      <td>40.000000</td>\n",
       "      <td>40.000000</td>\n",
       "      <td>40.000000</td>\n",
       "      <td>40.000000</td>\n",
       "    </tr>\n",
       "    <tr>\n",
       "      <th>mean</th>\n",
       "      <td>120512.411758</td>\n",
       "      <td>3967.549761</td>\n",
       "      <td>582.106097</td>\n",
       "      <td>2514.890733</td>\n",
       "    </tr>\n",
       "    <tr>\n",
       "      <th>std</th>\n",
       "      <td>18807.448712</td>\n",
       "      <td>923.095073</td>\n",
       "      <td>161.152513</td>\n",
       "      <td>282.730852</td>\n",
       "    </tr>\n",
       "    <tr>\n",
       "      <th>min</th>\n",
       "      <td>79033.834921</td>\n",
       "      <td>1836.629861</td>\n",
       "      <td>311.629515</td>\n",
       "      <td>1939.611243</td>\n",
       "    </tr>\n",
       "    <tr>\n",
       "      <th>25%</th>\n",
       "      <td>112691.970770</td>\n",
       "      <td>3376.819024</td>\n",
       "      <td>444.626828</td>\n",
       "      <td>2280.537426</td>\n",
       "    </tr>\n",
       "    <tr>\n",
       "      <th>50%</th>\n",
       "      <td>119291.300775</td>\n",
       "      <td>3931.359804</td>\n",
       "      <td>551.355732</td>\n",
       "      <td>2544.666107</td>\n",
       "    </tr>\n",
       "    <tr>\n",
       "      <th>75%</th>\n",
       "      <td>132050.578933</td>\n",
       "      <td>4660.497911</td>\n",
       "      <td>699.862360</td>\n",
       "      <td>2761.545405</td>\n",
       "    </tr>\n",
       "    <tr>\n",
       "      <th>max</th>\n",
       "      <td>158605.920483</td>\n",
       "      <td>6019.695079</td>\n",
       "      <td>889.910460</td>\n",
       "      <td>3171.489708</td>\n",
       "    </tr>\n",
       "  </tbody>\n",
       "</table>\n",
       "</div>"
      ],
      "text/plain": [
       "          Impression        Click    Purchase      Earning\n",
       "count      40.000000    40.000000   40.000000    40.000000\n",
       "mean   120512.411758  3967.549761  582.106097  2514.890733\n",
       "std     18807.448712   923.095073  161.152513   282.730852\n",
       "min     79033.834921  1836.629861  311.629515  1939.611243\n",
       "25%    112691.970770  3376.819024  444.626828  2280.537426\n",
       "50%    119291.300775  3931.359804  551.355732  2544.666107\n",
       "75%    132050.578933  4660.497911  699.862360  2761.545405\n",
       "max    158605.920483  6019.695079  889.910460  3171.489708"
      ]
     },
     "execution_count": 43,
     "metadata": {},
     "output_type": "execute_result"
    }
   ],
   "source": [
    "test_group.describe()"
   ]
  },
  {
   "cell_type": "code",
   "execution_count": 47,
   "id": "deaf5705-2e7c-4b34-a158-45276ce4d1fc",
   "metadata": {},
   "outputs": [
    {
     "data": {
      "text/plain": [
       "(40, 4)"
      ]
     },
     "execution_count": 47,
     "metadata": {},
     "output_type": "execute_result"
    }
   ],
   "source": [
    "control_group.shape"
   ]
  },
  {
   "cell_type": "code",
   "execution_count": 49,
   "id": "e0aa0c63-0e35-4f44-b2d6-e3594ccb7c28",
   "metadata": {},
   "outputs": [
    {
     "data": {
      "text/plain": [
       "(40, 4)"
      ]
     },
     "execution_count": 49,
     "metadata": {},
     "output_type": "execute_result"
    }
   ],
   "source": [
    "test_group.shape"
   ]
  },
  {
   "cell_type": "code",
   "execution_count": 71,
   "id": "2635f801-607f-42f4-a555-0859c437e833",
   "metadata": {},
   "outputs": [
    {
     "name": "stdout",
     "output_type": "stream",
     "text": [
      "Note: you may need to restart the kernel to use updated packages.Requirement already satisfied: statsmodels in c:\\users\\yenib\\anaconda3\\lib\\site-packages (0.14.2)\n",
      "Requirement already satisfied: numpy>=1.22.3 in c:\\users\\yenib\\anaconda3\\lib\\site-packages (from statsmodels) (1.26.4)\n",
      "Requirement already satisfied: scipy!=1.9.2,>=1.8 in c:\\users\\yenib\\anaconda3\\lib\\site-packages (from statsmodels) (1.13.1)\n",
      "Requirement already satisfied: pandas!=2.1.0,>=1.4 in c:\\users\\yenib\\anaconda3\\lib\\site-packages (from statsmodels) (2.2.2)\n",
      "Requirement already satisfied: patsy>=0.5.6 in c:\\users\\yenib\\anaconda3\\lib\\site-packages (from statsmodels) (0.5.6)\n",
      "Requirement already satisfied: packaging>=21.3 in c:\\users\\yenib\\anaconda3\\lib\\site-packages (from statsmodels) (23.2)\n",
      "Requirement already satisfied: python-dateutil>=2.8.2 in c:\\users\\yenib\\anaconda3\\lib\\site-packages (from pandas!=2.1.0,>=1.4->statsmodels) (2.9.0.post0)\n",
      "Requirement already satisfied: pytz>=2020.1 in c:\\users\\yenib\\anaconda3\\lib\\site-packages (from pandas!=2.1.0,>=1.4->statsmodels) (2024.1)\n",
      "Requirement already satisfied: tzdata>=2022.7 in c:\\users\\yenib\\anaconda3\\lib\\site-packages (from pandas!=2.1.0,>=1.4->statsmodels) (2023.3)\n",
      "Requirement already satisfied: six in c:\\users\\yenib\\anaconda3\\lib\\site-packages (from patsy>=0.5.6->statsmodels) (1.16.0)\n",
      "\n"
     ]
    }
   ],
   "source": [
    "pip install statsmodels\n"
   ]
  },
  {
   "cell_type": "code",
   "execution_count": 51,
   "id": "137be220-353f-4a12-a197-0b8a6e81c7e0",
   "metadata": {},
   "outputs": [],
   "source": [
    "df = pd.concat([control_group, test_group], ignore_index=True)"
   ]
  },
  {
   "cell_type": "code",
   "execution_count": 53,
   "id": "5eb688cc-b6f0-4cbd-806e-62a6f4021d4c",
   "metadata": {},
   "outputs": [
    {
     "data": {
      "text/html": [
       "<div>\n",
       "<style scoped>\n",
       "    .dataframe tbody tr th:only-of-type {\n",
       "        vertical-align: middle;\n",
       "    }\n",
       "\n",
       "    .dataframe tbody tr th {\n",
       "        vertical-align: top;\n",
       "    }\n",
       "\n",
       "    .dataframe thead th {\n",
       "        text-align: right;\n",
       "    }\n",
       "</style>\n",
       "<table border=\"1\" class=\"dataframe\">\n",
       "  <thead>\n",
       "    <tr style=\"text-align: right;\">\n",
       "      <th></th>\n",
       "      <th>Impression</th>\n",
       "      <th>Click</th>\n",
       "      <th>Purchase</th>\n",
       "      <th>Earning</th>\n",
       "    </tr>\n",
       "  </thead>\n",
       "  <tbody>\n",
       "    <tr>\n",
       "      <th>0</th>\n",
       "      <td>82529.459271</td>\n",
       "      <td>6090.077317</td>\n",
       "      <td>665.211255</td>\n",
       "      <td>2311.277143</td>\n",
       "    </tr>\n",
       "    <tr>\n",
       "      <th>1</th>\n",
       "      <td>98050.451926</td>\n",
       "      <td>3382.861786</td>\n",
       "      <td>315.084895</td>\n",
       "      <td>1742.806855</td>\n",
       "    </tr>\n",
       "    <tr>\n",
       "      <th>2</th>\n",
       "      <td>82696.023549</td>\n",
       "      <td>4167.965750</td>\n",
       "      <td>458.083738</td>\n",
       "      <td>1797.827447</td>\n",
       "    </tr>\n",
       "    <tr>\n",
       "      <th>3</th>\n",
       "      <td>109914.400398</td>\n",
       "      <td>4910.882240</td>\n",
       "      <td>487.090773</td>\n",
       "      <td>1696.229178</td>\n",
       "    </tr>\n",
       "    <tr>\n",
       "      <th>4</th>\n",
       "      <td>108457.762630</td>\n",
       "      <td>5987.655811</td>\n",
       "      <td>441.034050</td>\n",
       "      <td>1543.720179</td>\n",
       "    </tr>\n",
       "  </tbody>\n",
       "</table>\n",
       "</div>"
      ],
      "text/plain": [
       "      Impression        Click    Purchase      Earning\n",
       "0   82529.459271  6090.077317  665.211255  2311.277143\n",
       "1   98050.451926  3382.861786  315.084895  1742.806855\n",
       "2   82696.023549  4167.965750  458.083738  1797.827447\n",
       "3  109914.400398  4910.882240  487.090773  1696.229178\n",
       "4  108457.762630  5987.655811  441.034050  1543.720179"
      ]
     },
     "execution_count": 53,
     "metadata": {},
     "output_type": "execute_result"
    }
   ],
   "source": [
    "df.head()"
   ]
  },
  {
   "cell_type": "code",
   "execution_count": 57,
   "id": "103c4cd7-4078-479d-b451-e0834f5c90de",
   "metadata": {},
   "outputs": [
    {
     "data": {
      "text/plain": [
       "(80, 4)"
      ]
     },
     "execution_count": 57,
     "metadata": {},
     "output_type": "execute_result"
    }
   ],
   "source": [
    "df.shape"
   ]
  },
  {
   "cell_type": "code",
   "execution_count": 59,
   "id": "839aa373-8d49-4f98-b3f9-1978e07544dd",
   "metadata": {},
   "outputs": [
    {
     "data": {
      "text/html": [
       "<div>\n",
       "<style scoped>\n",
       "    .dataframe tbody tr th:only-of-type {\n",
       "        vertical-align: middle;\n",
       "    }\n",
       "\n",
       "    .dataframe tbody tr th {\n",
       "        vertical-align: top;\n",
       "    }\n",
       "\n",
       "    .dataframe thead th {\n",
       "        text-align: right;\n",
       "    }\n",
       "</style>\n",
       "<table border=\"1\" class=\"dataframe\">\n",
       "  <thead>\n",
       "    <tr style=\"text-align: right;\">\n",
       "      <th></th>\n",
       "      <th>Impression</th>\n",
       "      <th>Click</th>\n",
       "      <th>Purchase</th>\n",
       "      <th>Earning</th>\n",
       "    </tr>\n",
       "  </thead>\n",
       "  <tbody>\n",
       "    <tr>\n",
       "      <th>count</th>\n",
       "      <td>80.000000</td>\n",
       "      <td>80.000000</td>\n",
       "      <td>80.000000</td>\n",
       "      <td>80.000000</td>\n",
       "    </tr>\n",
       "    <tr>\n",
       "      <th>mean</th>\n",
       "      <td>111111.930413</td>\n",
       "      <td>4534.103567</td>\n",
       "      <td>566.500078</td>\n",
       "      <td>2211.729516</td>\n",
       "    </tr>\n",
       "    <tr>\n",
       "      <th>std</th>\n",
       "      <td>21623.807747</td>\n",
       "      <td>1272.376073</td>\n",
       "      <td>148.141840</td>\n",
       "      <td>421.700575</td>\n",
       "    </tr>\n",
       "    <tr>\n",
       "      <th>min</th>\n",
       "      <td>45475.942965</td>\n",
       "      <td>1836.629861</td>\n",
       "      <td>267.028943</td>\n",
       "      <td>1253.989525</td>\n",
       "    </tr>\n",
       "    <tr>\n",
       "      <th>25%</th>\n",
       "      <td>95063.860626</td>\n",
       "      <td>3632.891835</td>\n",
       "      <td>458.137878</td>\n",
       "      <td>1945.713157</td>\n",
       "    </tr>\n",
       "    <tr>\n",
       "      <th>50%</th>\n",
       "      <td>114037.035002</td>\n",
       "      <td>4321.602826</td>\n",
       "      <td>532.125084</td>\n",
       "      <td>2205.536256</td>\n",
       "    </tr>\n",
       "    <tr>\n",
       "      <th>75%</th>\n",
       "      <td>124138.652391</td>\n",
       "      <td>5272.616062</td>\n",
       "      <td>679.557595</td>\n",
       "      <td>2541.377520</td>\n",
       "    </tr>\n",
       "    <tr>\n",
       "      <th>max</th>\n",
       "      <td>158605.920483</td>\n",
       "      <td>7959.125069</td>\n",
       "      <td>889.910460</td>\n",
       "      <td>3171.489708</td>\n",
       "    </tr>\n",
       "  </tbody>\n",
       "</table>\n",
       "</div>"
      ],
      "text/plain": [
       "          Impression        Click    Purchase      Earning\n",
       "count      80.000000    80.000000   80.000000    80.000000\n",
       "mean   111111.930413  4534.103567  566.500078  2211.729516\n",
       "std     21623.807747  1272.376073  148.141840   421.700575\n",
       "min     45475.942965  1836.629861  267.028943  1253.989525\n",
       "25%     95063.860626  3632.891835  458.137878  1945.713157\n",
       "50%    114037.035002  4321.602826  532.125084  2205.536256\n",
       "75%    124138.652391  5272.616062  679.557595  2541.377520\n",
       "max    158605.920483  7959.125069  889.910460  3171.489708"
      ]
     },
     "execution_count": 59,
     "metadata": {},
     "output_type": "execute_result"
    }
   ],
   "source": [
    "df.describe()"
   ]
  },
  {
   "cell_type": "code",
   "execution_count": 78,
   "id": "dfe7509f-56f4-4a12-a8b4-25be12134349",
   "metadata": {},
   "outputs": [],
   "source": [
    "# Görev 2 : A/B Testinin Hipotezinin Tanımlanması\n",
    "# Adım 1: Hipotezi tanımlayınız.\n",
    "# H0 : M1 = M2 \n",
    "# H1 : M1!= M2 "
   ]
  },
  {
   "cell_type": "code",
   "execution_count": 63,
   "id": "5662e3f0-62f6-4ba9-bc7e-06ae53ce4a1d",
   "metadata": {},
   "outputs": [],
   "source": [
    "# Adım 2: Kontrol ve test grubu için purchase(kazanç) ortalamalarını analiz ediniz."
   ]
  },
  {
   "cell_type": "code",
   "execution_count": 82,
   "id": "6bba69c3-a3ab-45e8-b309-fec7edf6ba4e",
   "metadata": {},
   "outputs": [
    {
     "data": {
      "text/plain": [
       "550.8940587702316"
      ]
     },
     "execution_count": 82,
     "metadata": {},
     "output_type": "execute_result"
    }
   ],
   "source": [
    "control_group[\"Purchase\"].mean()"
   ]
  },
  {
   "cell_type": "code",
   "execution_count": 84,
   "id": "3a6ae601-7edd-4b5f-be01-04de06186d04",
   "metadata": {},
   "outputs": [
    {
     "data": {
      "text/plain": [
       "582.1060966484677"
      ]
     },
     "execution_count": 84,
     "metadata": {},
     "output_type": "execute_result"
    }
   ],
   "source": [
    "test_group[\"Purchase\"].mean()"
   ]
  },
  {
   "cell_type": "code",
   "execution_count": 86,
   "id": "a61a0058-1455-48ad-91d7-296fc3186465",
   "metadata": {},
   "outputs": [],
   "source": [
    "# Görev 3:  Hipotez Testinin Gerçekleştirilmesi \n",
    "# H0: Normal dağılım varsayımı sağlanmaktadır.\n",
    "# H1: Normal dağılım varsayımı sağlanmamaktadır.\n",
    "# p < 0.05 H0 RED , p > 0.05 H0 REDDEDİLEMEZ.\n",
    "# Test sonucuna göre normallik varsayımı kontrol ve test grupları için sağlanıyor mu ? Elde edilen p-valuedeğerlerini yorumlayınız. \n",
    "# Varyans Homojenliği :\n",
    "# H0: Varyanslarhomojendir.\n",
    "# H1: Varyanslarhomojen Değildir.\n",
    "# p < 0.05 H0 RED , p > 0.05 H0 REDDEDİLEMEZ.\n",
    "# Kontrol ve test grubu için varyans homojenliğinin sağlanıp sağlanmadığını Purchase değişkeni üzerinden test ediniz. \n",
    "# Test sonucuna göre normallik varsayımı sağlanıyor mu? Elde edilen p-valuedeğerlerini yorumlayınız. "
   ]
  },
  {
   "cell_type": "code",
   "execution_count": 92,
   "id": "d09eec4d-d574-4f33-a29f-d5ac12f935a3",
   "metadata": {},
   "outputs": [
    {
     "name": "stdout",
     "output_type": "stream",
     "text": [
      "\n",
      "Kontrol Grubu Shapiro-Wilk Testi:\n",
      "Statistik: 0.9772692828452955, p-değeri: 0.5891071186294093\n",
      "\n",
      "Test Grubu Shapiro-Wilk Testi:\n",
      "Statistik: 0.9589454139336723, p-değeri: 0.15413405050730578\n"
     ]
    }
   ],
   "source": [
    "control_shapiro = stats.shapiro(control_group[\"Purchase\"])\n",
    "test_shapiro = stats.shapiro(test_group[\"Purchase\"])\n",
    "\n",
    "print(\"\\nKontrol Grubu Shapiro-Wilk Testi:\")\n",
    "print(f\"Statistik: {control_shapiro.statistic}, p-değeri: {control_shapiro.pvalue}\")\n",
    "\n",
    "print(\"\\nTest Grubu Shapiro-Wilk Testi:\")\n",
    "print(f\"Statistik: {test_shapiro.statistic}, p-değeri: {test_shapiro.pvalue}\")"
   ]
  },
  {
   "cell_type": "code",
   "execution_count": 94,
   "id": "908ba1fc-de49-4867-b741-7676aca34584",
   "metadata": {},
   "outputs": [],
   "source": [
    "# H0 REDDEDİLEMEZ."
   ]
  },
  {
   "cell_type": "code",
   "execution_count": 98,
   "id": "2043fa1e-89d9-4c9a-9670-94ded68e241a",
   "metadata": {},
   "outputs": [
    {
     "name": "stdout",
     "output_type": "stream",
     "text": [
      "\n",
      "Levene Testi Sonuçları:\n",
      "Statistik: 2.6392694728747363, p-değeri: 0.10828588271874791\n"
     ]
    }
   ],
   "source": [
    "levene_test = stats.levene(control_group[\"Purchase\"], test_group[\"Purchase\"])\n",
    "\n",
    "print(\"\\nLevene Testi Sonuçları:\")\n",
    "print(f\"Statistik: {levene_test.statistic}, p-değeri: {levene_test.pvalue}\")"
   ]
  },
  {
   "cell_type": "code",
   "execution_count": 100,
   "id": "832d3a70-49f8-4814-8b15-24b98960a8a0",
   "metadata": {},
   "outputs": [],
   "source": [
    "# H0 Reddedilemez.\n",
    "# Varyanslar Homojendir."
   ]
  },
  {
   "cell_type": "code",
   "execution_count": null,
   "id": "2e6e3f71-fe43-4348-a06b-ab4a2207a3c1",
   "metadata": {},
   "outputs": [],
   "source": []
  }
 ],
 "metadata": {
  "kernelspec": {
   "display_name": "Python 3 (ipykernel)",
   "language": "python",
   "name": "python3"
  },
  "language_info": {
   "codemirror_mode": {
    "name": "ipython",
    "version": 3
   },
   "file_extension": ".py",
   "mimetype": "text/x-python",
   "name": "python",
   "nbconvert_exporter": "python",
   "pygments_lexer": "ipython3",
   "version": "3.12.4"
  }
 },
 "nbformat": 4,
 "nbformat_minor": 5
}
